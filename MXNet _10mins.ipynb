{
 "cells": [
  {
   "cell_type": "markdown",
   "metadata": {},
   "source": [
    "PyTorch"
   ]
  },
  {
   "cell_type": "code",
   "execution_count": null,
   "metadata": {},
   "outputs": [],
   "source": [
    "import torch\n",
    "\n",
    "x = torch.ones(5,3)\n",
    "y = x + 1\n",
    "y"
   ]
  },
  {
   "cell_type": "markdown",
   "metadata": {},
   "source": [
    "MXNet"
   ]
  },
  {
   "cell_type": "code",
   "execution_count": null,
   "metadata": {},
   "outputs": [],
   "source": [
    "from mxnet import nd\n",
    "\n",
    "x = nd.ones((5,3))\n",
    "y = x + 1\n",
    "y"
   ]
  },
  {
   "cell_type": "markdown",
   "metadata": {},
   "source": [
    "PyTorch"
   ]
  },
  {
   "cell_type": "code",
   "execution_count": null,
   "metadata": {},
   "outputs": [],
   "source": [
    "from torchvision import datasets, transforms\n",
    "\n",
    "trans = transforms.Compose([transforms.ToTensor(),\n",
    "                            transforms.Normalize((0.13,), (0.31,))])\n",
    "pt_train_data = torch.utils.data.DataLoader(datasets.MNIST(\n",
    "    root='.', train=True, download=True, transform=trans),\n",
    "    batch_size=128, shuffle=True, num_workers=4)"
   ]
  },
  {
   "cell_type": "markdown",
   "metadata": {},
   "source": [
    "MXNet"
   ]
  },
  {
   "cell_type": "code",
   "execution_count": null,
   "metadata": {},
   "outputs": [],
   "source": [
    "from mxnet import gluon\n",
    "from mxnet.gluon.data.vision import datasets, transforms\n",
    "\n",
    "trans = transforms.Compose([transforms.ToTensor(),\n",
    "                            transforms.Normalize(0.13, 0.31)])\n",
    "mx_train_data = gluon.data.DataLoader(\n",
    "    datasets.MNIST(train=True).transform_first(trans),\n",
    "    batch_size=128, shuffle=True, num_workers=4)"
   ]
  },
  {
   "cell_type": "markdown",
   "metadata": {},
   "source": [
    "PyTorch"
   ]
  },
  {
   "cell_type": "code",
   "execution_count": null,
   "metadata": {},
   "outputs": [],
   "source": [
    "import torch.nn as pt_nn\n",
    "\n",
    "pt_net = pt_nn.Sequential(\n",
    "    pt_nn.Linear(28*28, 256),\n",
    "    pt_nn.ReLU(),\n",
    "    pt_nn.Linear(256, 10))"
   ]
  },
  {
   "cell_type": "markdown",
   "metadata": {},
   "source": [
    "MXNet"
   ]
  },
  {
   "cell_type": "code",
   "execution_count": null,
   "metadata": {},
   "outputs": [],
   "source": [
    "import mxnet.gluon.nn as mx_nn\n",
    "\n",
    "mx_net = mx_nn.Sequential()\n",
    "mx_net.add(mx_nn.Dense(256, activation='relu'),\n",
    "           mx_nn.Dense(10))\n",
    "mx_net.initialize()"
   ]
  },
  {
   "cell_type": "markdown",
   "metadata": {},
   "source": [
    "PyTorch"
   ]
  },
  {
   "cell_type": "code",
   "execution_count": null,
   "metadata": {},
   "outputs": [],
   "source": [
    "pt_loss_fn = pt_nn.CrossEntropyLoss()\n",
    "pt_trainer = torch.optim.SGD(pt_net.parameters(), lr=0.1)"
   ]
  },
  {
   "cell_type": "markdown",
   "metadata": {},
   "source": [
    "MXNet"
   ]
  },
  {
   "cell_type": "code",
   "execution_count": null,
   "metadata": {},
   "outputs": [],
   "source": [
    "mx_loss_fn = gluon.loss.SoftmaxCrossEntropyLoss()\n",
    "mx_trainer = gluon.Trainer(mx_net.collect_params(),\n",
    "                           'sgd', {'learning_rate': 0.1})"
   ]
  },
  {
   "cell_type": "markdown",
   "metadata": {},
   "source": [
    "PyTorch"
   ]
  },
  {
   "cell_type": "code",
   "execution_count": null,
   "metadata": {},
   "outputs": [],
   "source": [
    "import time\n",
    "\n",
    "for epoch in range(5):\n",
    "    total_loss = .0\n",
    "    tic = time.time()\n",
    "    for X, y in pt_train_data:\n",
    "        pt_trainer.zero_grad()\n",
    "        loss = pt_loss_fn(pt_net(X.view(-1, 28*28)), y)\n",
    "        loss.backward()\n",
    "        pt_trainer.step()\n",
    "        total_loss += loss.mean()\n",
    "    print('epoch %d, avg loss %.4f, time %.2f' % (\n",
    "        epoch, total_loss/len(pt_train_data), time.time()-tic))"
   ]
  },
  {
   "cell_type": "markdown",
   "metadata": {},
   "source": [
    "MXNet"
   ]
  },
  {
   "cell_type": "code",
   "execution_count": null,
   "metadata": {},
   "outputs": [],
   "source": [
    "from mxnet import autograd\n",
    "import time\n",
    "\n",
    "for epoch in range(5):\n",
    "    total_loss = .0\n",
    "    tic = time.time()\n",
    "    for X, y in mx_train_data:\n",
    "        with autograd.record():\n",
    "            loss = mx_loss_fn(mx_net(X), y)\n",
    "        loss.backward()\n",
    "        mx_trainer.step(batch_size=128)\n",
    "        total_loss += loss.mean().asscalar()\n",
    "    print('epoch %d, avg loss %.4f, time %.2f' % (\n",
    "        epoch, total_loss/len(mx_train_data), time.time()-tic))"
   ]
  },
  {
   "cell_type": "code",
   "execution_count": null,
   "metadata": {},
   "outputs": [],
   "source": []
  }
 ],
 "metadata": {
  "kernelspec": {
   "display_name": "Python 3",
   "language": "python",
   "name": "python3"
  },
  "language_info": {
   "codemirror_mode": {
    "name": "ipython",
    "version": 3
   },
   "file_extension": ".py",
   "mimetype": "text/x-python",
   "name": "python",
   "nbconvert_exporter": "python",
   "pygments_lexer": "ipython3",
   "version": "3.6.5"
  }
 },
 "nbformat": 4,
 "nbformat_minor": 2
}
