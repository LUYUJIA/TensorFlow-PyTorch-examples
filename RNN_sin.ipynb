{
 "cells": [
  {
   "cell_type": "code",
   "execution_count": 1,
   "metadata": {},
   "outputs": [],
   "source": [
    "#217 page\n",
    "import numpy as np\n",
    "import matplotlib.pyplot as plt\n",
    "from sklearn.model_selection import train_test_split\n",
    "from sklearn.utils import shuffle\n",
    "%matplotlib inline"
   ]
  },
  {
   "cell_type": "code",
   "execution_count": 2,
   "metadata": {},
   "outputs": [],
   "source": [
    "def sin(x, T=100):\n",
    "    return np.sin(2.0*np.pi*x/T)"
   ]
  },
  {
   "cell_type": "code",
   "execution_count": 24,
   "metadata": {},
   "outputs": [],
   "source": [
    "def toy_problem(T=100, ampl=0.05):\n",
    "    x = np.arange(0,2*T+1)\n",
    "    noise = ampl*np.random.uniform(low=-1.0, high=1.0, size=len(x))\n",
    "    return sin(x)+noise"
   ]
  },
  {
   "cell_type": "code",
   "execution_count": 4,
   "metadata": {},
   "outputs": [],
   "source": [
    "T = 100\n",
    "f = toy_preoblem(T)"
   ]
  },
  {
   "cell_type": "code",
   "execution_count": 5,
   "metadata": {},
   "outputs": [
    {
     "data": {
      "text/plain": [
       "[<matplotlib.lines.Line2D at 0x211712701d0>]"
      ]
     },
     "execution_count": 5,
     "metadata": {},
     "output_type": "execute_result"
    },
    {
     "data": {
      "image/png": "[encoded data removed]",
      "text/plain": [
       "<Figure size 432x288 with 1 Axes>"
      ]
     },
     "metadata": {},
     "output_type": "display_data"
    }
   ],
   "source": [
    "plt.plot(f)"
   ]
  },
  {
   "cell_type": "code",
   "execution_count": 6,
   "metadata": {},
   "outputs": [],
   "source": [
    "length_of_sequences = 2*T\n",
    "maxlen = 25\n",
    "\n",
    "data = []\n",
    "target = []\n",
    "\n",
    "#predict the value in t+1 by t-24 ~  t during 2T period\n",
    "for i in range(0,length_of_sequences-maxlen+1):\n",
    "    data.append(f[i:i+maxlen])\n",
    "    target.append(f[i+maxlen])"
   ]
  },
  {
   "cell_type": "code",
   "execution_count": 7,
   "metadata": {},
   "outputs": [],
   "source": [
    "X = np.array(data).reshape(len(data),maxlen,1)\n",
    "Y = np.array(target).reshape(len(data),1)"
   ]
  },
  {
   "cell_type": "code",
   "execution_count": 8,
   "metadata": {},
   "outputs": [],
   "source": [
    "N_train = int(len(data)*0.9)\n",
    "N_validation = len(data)-N_train\n",
    "\n",
    "X_train, X_validation, Y_train, Y_validation =train_test_split(X, Y, test_size = N_validation)"
   ]
  },
  {
   "cell_type": "markdown",
   "metadata": {},
   "source": [
    "# TensorFlow"
   ]
  },
  {
   "cell_type": "code",
   "execution_count": 9,
   "metadata": {},
   "outputs": [
    {
     "name": "stderr",
     "output_type": "stream",
     "text": [
      "C:\\ProgramData\\Anaconda3\\lib\\site-packages\\h5py\\__init__.py:36: FutureWarning: Conversion of the second argument of issubdtype from `float` to `np.floating` is deprecated. In future, it will be treated as `np.float64 == np.dtype(float).type`.\n",
      "  from ._conv import register_converters as _register_converters\n"
     ]
    }
   ],
   "source": [
    "import tensorflow as tf"
   ]
  },
  {
   "cell_type": "code",
   "execution_count": 10,
   "metadata": {},
   "outputs": [],
   "source": [
    "def inference(x, n_batch, maxlen=None, n_hidden=None, n_out=None):\n",
    "    def weight_variable(shape):\n",
    "        initial = tf.truncated_normal(shape, stddev=0.01)\n",
    "        return tf.Variable(initial)\n",
    "    \n",
    "    def bias_variable(shape):\n",
    "        initial = tf.zeros(shape, dtype=tf.float32)\n",
    "        return tf.Variable(initial)\n",
    "    \n",
    "    cell = tf.contrib.rnn.BasicRNNCell(n_hidden)\n",
    "    initial_state = cell.zero_state(n_batch, tf.float32)\n",
    "    \n",
    "    state = initial_state\n",
    "    outputs = []\n",
    "    with tf.variable_scope('RNN'):\n",
    "        for t in range(maxlen):\n",
    "            if t> 0:\n",
    "                tf.get_variable_scope().reuse_variables()\n",
    "            (cell_output, state) = cell(x[:, t, :], state)\n",
    "            outputs.append(cell_output)\n",
    "    \n",
    "    output = outputs[-1]\n",
    "    \n",
    "    V = weight_variable([n_hidden, n_out])\n",
    "    c = bias_variable([n_out])\n",
    "    y = tf.matmul(output, V) + c\n",
    "    \n",
    "    return y\n",
    "\n",
    "def loss(y,t):\n",
    "    mse = tf.reduce_mean(tf.square(y - t))\n",
    "    return mse\n",
    "\n",
    "def training(loss):\n",
    "    optimizer = tf.train.AdamOptimizer(learning_rate=0.001, beta1=0.9, beta2= 0.999)\n",
    "    train_step = optimizer.minimize(loss)\n",
    "    return train_step\n",
    "\n",
    "\n",
    "class EarlyStopping():\n",
    "    def __init__(self, patience=0, verbose=0):\n",
    "        self._step = 0\n",
    "        self._loss = float('inf')\n",
    "        self.patience = patience\n",
    "        self.verbose = verbose\n",
    "\n",
    "    def validate(self, loss):\n",
    "        if self._loss < loss:\n",
    "            self._step += 1\n",
    "            if self._step > self.patience:\n",
    "                if self.verbose:\n",
    "                    print('early stopping')\n",
    "                return True\n",
    "        else:\n",
    "            self._step = 0\n",
    "            self._loss = loss\n",
    "\n",
    "        return False"
   ]
  },
  {
   "cell_type": "code",
   "execution_count": 11,
   "metadata": {},
   "outputs": [
    {
     "name": "stdout",
     "output_type": "stream",
     "text": [
      "epoch: 0 validation_loss: 0.21494037\n",
      "epoch: 1 validation_loss: 0.061807096\n",
      "epoch: 2 validation_loss: 0.06658472\n",
      "epoch: 3 validation_loss: 0.06425537\n",
      "epoch: 4 validation_loss: 0.03415197\n",
      "epoch: 5 validation_loss: 0.023947915\n",
      "epoch: 6 validation_loss: 0.012951753\n",
      "epoch: 7 validation_loss: 0.009893458\n",
      "epoch: 8 validation_loss: 0.007520911\n",
      "epoch: 9 validation_loss: 0.004923736\n",
      "epoch: 10 validation_loss: 0.004322268\n",
      "epoch: 11 validation_loss: 0.0034164595\n",
      "epoch: 12 validation_loss: 0.0016201043\n",
      "epoch: 13 validation_loss: 0.003484189\n",
      "epoch: 14 validation_loss: 0.0029185573\n",
      "epoch: 15 validation_loss: 0.0022609348\n",
      "epoch: 16 validation_loss: 0.0024872916\n",
      "epoch: 17 validation_loss: 0.0025990813\n",
      "epoch: 18 validation_loss: 0.0015309097\n",
      "epoch: 19 validation_loss: 0.0021411176\n",
      "epoch: 20 validation_loss: 0.0026223967\n",
      "epoch: 21 validation_loss: 0.0022356776\n",
      "epoch: 22 validation_loss: 0.003002458\n",
      "epoch: 23 validation_loss: 0.0022069828\n",
      "epoch: 24 validation_loss: 0.002911799\n",
      "epoch: 25 validation_loss: 0.0026757184\n",
      "epoch: 26 validation_loss: 0.0017794168\n",
      "epoch: 27 validation_loss: 0.0029503314\n",
      "epoch: 28 validation_loss: 0.0031857449\n",
      "epoch: 29 validation_loss: 0.0023135026\n",
      "early stopping\n"
     ]
    }
   ],
   "source": [
    "tf.reset_default_graph()\n",
    "n_in = len(X[0][0])\n",
    "n_hidden = 30\n",
    "n_out =len(Y[0])\n",
    "n_batch= 10\n",
    "early_stopping = EarlyStopping(patience=10, verbose=1)\n",
    "history = {'val_loss': []}\n",
    "\n",
    "\n",
    "x = tf.placeholder(tf.float32, shape=[None, maxlen, n_in])\n",
    "t = tf.placeholder(tf.float32, shape=[None, n_out])\n",
    "n_batch = tf.placeholder(tf.int32, shape=[])\n",
    "\n",
    "y = inference(x, n_batch, maxlen, n_hidden, n_out)\n",
    "loss = loss(y, t)\n",
    "train_step = training(loss)\n",
    "\n",
    "epochs = 500\n",
    "batch_size = 10\n",
    "\n",
    "init = tf.global_variables_initializer()\n",
    "sess = tf.Session()\n",
    "sess.run(init)\n",
    "\n",
    "n_batches = N_train // batch_size\n",
    "\n",
    "for epoch in range(epochs):\n",
    "    X_,Y_ = shuffle(X_train,Y_train)\n",
    "    \n",
    "    for i in range(n_batches):\n",
    "        start = i*batch_size\n",
    "        end = start+batch_size\n",
    "        \n",
    "        sess.run(train_step, feed_dict={\n",
    "            x: X_[start:end],\n",
    "            t: Y_[start:end],\n",
    "            n_batch: batch_size\n",
    "        })\n",
    "        \n",
    "    # 検証データ, を用いた評価\n",
    "    val_loss = loss.eval(session=sess, feed_dict={\n",
    "            x: X_validation,\n",
    "            t: Y_validation,\n",
    "            n_batch: N_validation\n",
    "        })\n",
    "    \n",
    "    history[\"val_loss\"].append(val_loss)\n",
    "    print('epoch:',epoch,\"validation_loss:\",val_loss)\n",
    "    \n",
    "    #Early stopping\n",
    "    if early_stopping.validate(val_loss):\n",
    "        break"
   ]
  },
  {
   "cell_type": "code",
   "execution_count": 21,
   "metadata": {},
   "outputs": [
    {
     "data": {
      "text/plain": [
       "[<matplotlib.lines.Line2D at 0x211707936a0>]"
      ]
     },
     "execution_count": 21,
     "metadata": {},
     "output_type": "execute_result"
    },
    {
     "data": {
      "image/png": "[encoded data removed]",
      "text/plain": [
       "<Figure size 432x288 with 1 Axes>"
      ]
     },
     "metadata": {},
     "output_type": "display_data"
    }
   ],
   "source": [
    "plt.figure()\n",
    "plt.plot(history['val_loss'])"
   ]
  },
  {
   "cell_type": "code",
   "execution_count": 25,
   "metadata": {},
   "outputs": [
    {
     "data": {
      "image/png": "[encoded data removed]",
      "text/plain": [
       "<Figure size 432x288 with 1 Axes>"
      ]
     },
     "metadata": {},
     "output_type": "display_data"
    }
   ],
   "source": [
    " '''\n",
    "    出力を用いて予測\n",
    "'''\n",
    "truncate = maxlen\n",
    "Z = X[:1]  # 元データの最初の一部だけ切り出し\n",
    "\n",
    "original = [f[i] for i in range(maxlen)]\n",
    "predicted = [None for i in range(maxlen)]\n",
    "\n",
    "for i in range(length_of_sequences - maxlen + 1):\n",
    "    # 最後の時系列データから未来を予測\n",
    "    z_ = Z[-1:]\n",
    "    y_ = y.eval(session=sess, feed_dict={\n",
    "        x: Z[-1:],\n",
    "        n_batch: 1\n",
    "    })\n",
    "    # 予測結果を用いて新しい時系列データを生成\n",
    "    sequence_ = np.concatenate((z_.reshape(maxlen, n_in)[1:], y_), axis=0).reshape(1, maxlen, n_in)\n",
    "    Z = np.append(Z, sequence_, axis=0)\n",
    "    predicted.append(y_.reshape(-1))\n",
    "\n",
    "    '''\n",
    "    グラフで可視化\n",
    "    '''\n",
    "plt.rc('font', family='serif')\n",
    "plt.figure()\n",
    "plt.ylim([-1.5, 1.5])\n",
    "plt.plot(toy_problem(T, ampl=0), linestyle='dotted', color='#aaaaaa')\n",
    "plt.plot(original, linestyle='dashed', color='black')\n",
    "plt.plot(predicted, color='black')\n",
    "plt.show()"
   ]
  },
  {
   "cell_type": "markdown",
   "metadata": {},
   "source": [
    "# Keras"
   ]
  },
  {
   "cell_type": "code",
   "execution_count": 30,
   "metadata": {},
   "outputs": [],
   "source": [
    "import numpy as np\n",
    "import matplotlib.pyplot as plt\n",
    "from keras.models import Sequential\n",
    "from keras.layers.core import Dense, Activation\n",
    "from keras.layers.recurrent import SimpleRNN\n",
    "from keras.optimizers import Adam\n",
    "from keras.callbacks import EarlyStopping\n",
    "from sklearn.model_selection import train_test_split\n",
    "from sklearn.utils import shuffle"
   ]
  },
  {
   "cell_type": "code",
   "execution_count": 32,
   "metadata": {},
   "outputs": [],
   "source": [
    "def weight_variable(shape, name=None):\n",
    "    return np.random.normal(scale=.01, size=shape)\n",
    "\n",
    "early_stopping = EarlyStopping(monitor='val_loss', patience=10, verbose=1)\n",
    "\n",
    "\n",
    "model = Sequential()\n",
    "model.add(SimpleRNN(n_hidden,\n",
    "                    kernel_initializer=weight_variable,\n",
    "                    input_shape=(maxlen, n_in)))\n",
    "model.add(Dense(n_out, kernel_initializer=weight_variable))\n",
    "model.add(Activation('linear'))\n",
    "\n",
    "optimizer = Adam(lr=0.001, beta_1=0.9, beta_2=0.999)\n",
    "model.compile(loss='mean_squared_error',\n",
    "              optimizer=optimizer)"
   ]
  },
  {
   "cell_type": "code",
   "execution_count": 33,
   "metadata": {},
   "outputs": [
    {
     "name": "stdout",
     "output_type": "stream",
     "text": [
      "Train on 158 samples, validate on 18 samples\n",
      "Epoch 1/500\n",
      "158/158 [==============================] - 1s 3ms/step - loss: 0.4755 - val_loss: 0.3561\n",
      "Epoch 2/500\n",
      "158/158 [==============================] - 0s 423us/step - loss: 0.3496 - val_loss: 0.1769\n",
      "Epoch 3/500\n",
      "158/158 [==============================] - 0s 436us/step - loss: 0.1362 - val_loss: 0.0587\n",
      "Epoch 4/500\n",
      "158/158 [==============================] - 0s 467us/step - loss: 0.0560 - val_loss: 0.0488\n",
      "Epoch 5/500\n",
      "158/158 [==============================] - 0s 398us/step - loss: 0.0417 - val_loss: 0.0439\n",
      "Epoch 6/500\n",
      "158/158 [==============================] - 0s 473us/step - loss: 0.0319 - val_loss: 0.0279\n",
      "Epoch 7/500\n",
      "158/158 [==============================] - 0s 486us/step - loss: 0.0292 - val_loss: 0.0188\n",
      "Epoch 8/500\n",
      "158/158 [==============================] - 0s 404us/step - loss: 0.0228 - val_loss: 0.0162\n",
      "Epoch 9/500\n",
      "158/158 [==============================] - 0s 410us/step - loss: 0.0158 - val_loss: 0.0077\n",
      "Epoch 10/500\n",
      "158/158 [==============================] - 0s 492us/step - loss: 0.0088 - val_loss: 0.0063\n",
      "Epoch 11/500\n",
      "158/158 [==============================] - 0s 499us/step - loss: 0.0051 - val_loss: 0.0040\n",
      "Epoch 12/500\n",
      "158/158 [==============================] - 0s 499us/step - loss: 0.0042 - val_loss: 0.0035\n",
      "Epoch 13/500\n",
      "158/158 [==============================] - 0s 467us/step - loss: 0.0030 - val_loss: 0.0023\n",
      "Epoch 14/500\n",
      "158/158 [==============================] - 0s 467us/step - loss: 0.0031 - val_loss: 0.0031\n",
      "Epoch 15/500\n",
      "158/158 [==============================] - 0s 442us/step - loss: 0.0033 - val_loss: 0.0022\n",
      "Epoch 16/500\n",
      "158/158 [==============================] - 0s 461us/step - loss: 0.0021 - val_loss: 0.0026\n",
      "Epoch 17/500\n",
      "158/158 [==============================] - 0s 417us/step - loss: 0.0022 - val_loss: 0.0033\n",
      "Epoch 18/500\n",
      "158/158 [==============================] - 0s 360us/step - loss: 0.0018 - val_loss: 0.0024\n",
      "Epoch 19/500\n",
      "158/158 [==============================] - 0s 467us/step - loss: 0.0019 - val_loss: 0.0017\n",
      "Epoch 20/500\n",
      "158/158 [==============================] - 0s 448us/step - loss: 0.0016 - val_loss: 9.0293e-04\n",
      "Epoch 21/500\n",
      "158/158 [==============================] - 0s 379us/step - loss: 0.0024 - val_loss: 0.0016\n",
      "Epoch 22/500\n",
      "158/158 [==============================] - 0s 429us/step - loss: 0.0034 - val_loss: 0.0029\n",
      "Epoch 23/500\n",
      "158/158 [==============================] - 0s 467us/step - loss: 0.0025 - val_loss: 0.0012\n",
      "Epoch 24/500\n",
      "158/158 [==============================] - 0s 448us/step - loss: 0.0016 - val_loss: 0.0018\n",
      "Epoch 25/500\n",
      "158/158 [==============================] - 0s 442us/step - loss: 0.0017 - val_loss: 0.0023\n",
      "Epoch 26/500\n",
      "158/158 [==============================] - 0s 436us/step - loss: 0.0015 - val_loss: 0.0023\n",
      "Epoch 27/500\n",
      "158/158 [==============================] - 0s 417us/step - loss: 0.0017 - val_loss: 0.0026\n",
      "Epoch 28/500\n",
      "158/158 [==============================] - 0s 372us/step - loss: 0.0021 - val_loss: 0.0021\n",
      "Epoch 29/500\n",
      "158/158 [==============================] - 0s 423us/step - loss: 0.0016 - val_loss: 0.0019\n",
      "Epoch 30/500\n",
      "158/158 [==============================] - 0s 436us/step - loss: 0.0015 - val_loss: 0.0019\n",
      "Epoch 00030: early stopping\n"
     ]
    },
    {
     "data": {
      "text/plain": [
       "<keras.callbacks.History at 0x2117a424e80>"
      ]
     },
     "execution_count": 33,
     "metadata": {},
     "output_type": "execute_result"
    }
   ],
   "source": [
    "epochs = 500\n",
    "batch_size = 10\n",
    "\n",
    "model.fit(X_train, Y_train,\n",
    "          batch_size=batch_size,\n",
    "          epochs=epochs,\n",
    "          validation_data=(X_validation, Y_validation),\n",
    "          callbacks=[early_stopping])"
   ]
  },
  {
   "cell_type": "code",
   "execution_count": 34,
   "metadata": {},
   "outputs": [
    {
     "data": {
      "image/png": "[encoded data removed]",
      "text/plain": [
       "<Figure size 432x288 with 1 Axes>"
      ]
     },
     "metadata": {},
     "output_type": "display_data"
    }
   ],
   "source": [
    "'''\n",
    "出力を用いて予測\n",
    "'''\n",
    "truncate = maxlen\n",
    "Z = X[:1]  # 元データの最初の一部だけ切り出し\n",
    "\n",
    "original = [f[i] for i in range(maxlen)]\n",
    "predicted = [None for i in range(maxlen)]\n",
    "\n",
    "for i in range(length_of_sequences - maxlen + 1):\n",
    "    z_ = Z[-1:]\n",
    "    y_ = model.predict(z_)\n",
    "    sequence_ = np.concatenate(\n",
    "        (z_.reshape(maxlen, n_in)[1:], y_),\n",
    "        axis=0).reshape(1, maxlen, n_in)\n",
    "    Z = np.append(Z, sequence_, axis=0)\n",
    "    predicted.append(y_.reshape(-1))\n",
    "\n",
    "'''\n",
    "グラフで可視化\n",
    "'''\n",
    "plt.rc('font', family='serif')\n",
    "plt.figure()\n",
    "plt.ylim([-1.5, 1.5])\n",
    "plt.plot(toy_problem(T, ampl=0), linestyle='dotted', color='#aaaaaa')\n",
    "plt.plot(original, linestyle='dashed', color='black')\n",
    "plt.plot(predicted, color='black')\n",
    "plt.show()"
   ]
  },
  {
   "cell_type": "code",
   "execution_count": null,
   "metadata": {},
   "outputs": [],
   "source": []
  }
 ],
 "metadata": {
  "kernelspec": {
   "display_name": "Python 3",
   "language": "python",
   "name": "python3"
  },
  "language_info": {
   "codemirror_mode": {
    "name": "ipython",
    "version": 3
   },
   "file_extension": ".py",
   "mimetype": "text/x-python",
   "name": "python",
   "nbconvert_exporter": "python",
   "pygments_lexer": "ipython3",
   "version": "3.6.5"
  }
 },
 "nbformat": 4,
 "nbformat_minor": 2
}
